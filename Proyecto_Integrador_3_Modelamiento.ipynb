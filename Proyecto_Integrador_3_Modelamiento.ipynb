{
  "cells": [
    {
      "cell_type": "markdown",
      "metadata": {
        "id": "4WaoEOp0KkSp"
      },
      "source": [
        "![HenryLogo](https://d31uz8lwfmyn8g.cloudfront.net/Assets/logo-henry-white-lg.png)\n",
        "\n",
        "# **Proyecto integrador**\n",
        "\n",
        "### 3. Modelamiento\n",
        "\n",
        "Una vez preparados los datos, se procederá con el modelamiento. Recuerden que el objetivo es clasificar a un paciente como hospitalizado o no hospitalizado, teniendo en cuenta un data set que contiene información referente a antecedentes del paciente, morbilidad asociada al paciente y antecedentes relacionados con la toma de la biopsia y complicaciones infecciosas.\n",
        "\n",
        "\n"
      ]
    },
    {
      "cell_type": "markdown",
      "metadata": {
        "id": "E22GkymtLevx"
      },
      "source": [
        "Carguen la base de datos preparada desde la fase 2."
      ]
    },
    {
      "cell_type": "code",
      "execution_count": 1,
      "metadata": {
        "id": "dlRCMYtGLqDJ"
      },
      "outputs": [],
      "source": [
        "import pandas as pd\n",
        "from sklearn.linear_model import LogisticRegression\n",
        "from sklearn.tree import DecisionTreeClassifier\n",
        "from sklearn.preprocessing import MinMaxScaler\n",
        "from sklearn.metrics import confusion_matrix\n",
        "from sklearn.metrics import ConfusionMatrixDisplay\n",
        "from sklearn.model_selection import train_test_split,cross_val_score,GridSearchCV\n",
        "from sklearn.metrics import accuracy_score,f1_score, recall_score, classification_report\n",
        "import matplotlib.pyplot as plt\n",
        "import seaborn as sns\n",
        "import warnings\n",
        "warnings.simplefilter(\"ignore\")\n",
        "from imblearn.over_sampling import SMOTE"
      ]
    },
    {
      "cell_type": "code",
      "execution_count": 2,
      "metadata": {},
      "outputs": [
        {
          "data": {
            "text/html": [
              "<div>\n",
              "<style scoped>\n",
              "    .dataframe tbody tr th:only-of-type {\n",
              "        vertical-align: middle;\n",
              "    }\n",
              "\n",
              "    .dataframe tbody tr th {\n",
              "        vertical-align: top;\n",
              "    }\n",
              "\n",
              "    .dataframe thead th {\n",
              "        text-align: right;\n",
              "    }\n",
              "</style>\n",
              "<table border=\"1\" class=\"dataframe\">\n",
              "  <thead>\n",
              "    <tr style=\"text-align: right;\">\n",
              "      <th></th>\n",
              "      <th>Edad</th>\n",
              "      <th>Diabetes</th>\n",
              "      <th>PSA</th>\n",
              "      <th>Biopsias_previas</th>\n",
              "      <th>Vol_prostatico</th>\n",
              "      <th>Antibiotico_profilaxis</th>\n",
              "      <th>Num_muestras</th>\n",
              "      <th>Enf_cronica_pulm_obstructiva</th>\n",
              "      <th>Biopsia</th>\n",
              "      <th>Fiebre</th>\n",
              "      <th>ITU</th>\n",
              "      <th>Hospitalizacion</th>\n",
              "    </tr>\n",
              "  </thead>\n",
              "  <tbody>\n",
              "    <tr>\n",
              "      <th>0</th>\n",
              "      <td>53</td>\n",
              "      <td>0</td>\n",
              "      <td>4.0</td>\n",
              "      <td>0</td>\n",
              "      <td>1</td>\n",
              "      <td>0</td>\n",
              "      <td>12</td>\n",
              "      <td>0</td>\n",
              "      <td>0</td>\n",
              "      <td>1</td>\n",
              "      <td>0</td>\n",
              "      <td>1</td>\n",
              "    </tr>\n",
              "    <tr>\n",
              "      <th>1</th>\n",
              "      <td>56</td>\n",
              "      <td>0</td>\n",
              "      <td>7.7</td>\n",
              "      <td>0</td>\n",
              "      <td>1</td>\n",
              "      <td>0</td>\n",
              "      <td>12</td>\n",
              "      <td>0</td>\n",
              "      <td>0</td>\n",
              "      <td>1</td>\n",
              "      <td>0</td>\n",
              "      <td>1</td>\n",
              "    </tr>\n",
              "    <tr>\n",
              "      <th>2</th>\n",
              "      <td>57</td>\n",
              "      <td>0</td>\n",
              "      <td>29.0</td>\n",
              "      <td>1</td>\n",
              "      <td>1</td>\n",
              "      <td>0</td>\n",
              "      <td>24</td>\n",
              "      <td>0</td>\n",
              "      <td>0</td>\n",
              "      <td>1</td>\n",
              "      <td>0</td>\n",
              "      <td>1</td>\n",
              "    </tr>\n",
              "    <tr>\n",
              "      <th>3</th>\n",
              "      <td>56</td>\n",
              "      <td>0</td>\n",
              "      <td>7.0</td>\n",
              "      <td>0</td>\n",
              "      <td>1</td>\n",
              "      <td>0</td>\n",
              "      <td>12</td>\n",
              "      <td>0</td>\n",
              "      <td>0</td>\n",
              "      <td>1</td>\n",
              "      <td>0</td>\n",
              "      <td>1</td>\n",
              "    </tr>\n",
              "    <tr>\n",
              "      <th>4</th>\n",
              "      <td>55</td>\n",
              "      <td>0</td>\n",
              "      <td>29.0</td>\n",
              "      <td>1</td>\n",
              "      <td>1</td>\n",
              "      <td>0</td>\n",
              "      <td>24</td>\n",
              "      <td>0</td>\n",
              "      <td>0</td>\n",
              "      <td>1</td>\n",
              "      <td>0</td>\n",
              "      <td>1</td>\n",
              "    </tr>\n",
              "    <tr>\n",
              "      <th>...</th>\n",
              "      <td>...</td>\n",
              "      <td>...</td>\n",
              "      <td>...</td>\n",
              "      <td>...</td>\n",
              "      <td>...</td>\n",
              "      <td>...</td>\n",
              "      <td>...</td>\n",
              "      <td>...</td>\n",
              "      <td>...</td>\n",
              "      <td>...</td>\n",
              "      <td>...</td>\n",
              "      <td>...</td>\n",
              "    </tr>\n",
              "    <tr>\n",
              "      <th>426</th>\n",
              "      <td>55</td>\n",
              "      <td>0</td>\n",
              "      <td>5.0</td>\n",
              "      <td>0</td>\n",
              "      <td>0</td>\n",
              "      <td>0</td>\n",
              "      <td>12</td>\n",
              "      <td>0</td>\n",
              "      <td>2</td>\n",
              "      <td>0</td>\n",
              "      <td>0</td>\n",
              "      <td>0</td>\n",
              "    </tr>\n",
              "    <tr>\n",
              "      <th>427</th>\n",
              "      <td>70</td>\n",
              "      <td>1</td>\n",
              "      <td>18.0</td>\n",
              "      <td>0</td>\n",
              "      <td>1</td>\n",
              "      <td>0</td>\n",
              "      <td>12</td>\n",
              "      <td>0</td>\n",
              "      <td>0</td>\n",
              "      <td>0</td>\n",
              "      <td>0</td>\n",
              "      <td>0</td>\n",
              "    </tr>\n",
              "    <tr>\n",
              "      <th>428</th>\n",
              "      <td>75</td>\n",
              "      <td>0</td>\n",
              "      <td>75.0</td>\n",
              "      <td>0</td>\n",
              "      <td>1</td>\n",
              "      <td>0</td>\n",
              "      <td>12</td>\n",
              "      <td>0</td>\n",
              "      <td>5</td>\n",
              "      <td>0</td>\n",
              "      <td>0</td>\n",
              "      <td>0</td>\n",
              "    </tr>\n",
              "    <tr>\n",
              "      <th>429</th>\n",
              "      <td>67</td>\n",
              "      <td>0</td>\n",
              "      <td>6.0</td>\n",
              "      <td>0</td>\n",
              "      <td>1</td>\n",
              "      <td>0</td>\n",
              "      <td>12</td>\n",
              "      <td>0</td>\n",
              "      <td>1</td>\n",
              "      <td>0</td>\n",
              "      <td>0</td>\n",
              "      <td>0</td>\n",
              "    </tr>\n",
              "    <tr>\n",
              "      <th>430</th>\n",
              "      <td>64</td>\n",
              "      <td>0</td>\n",
              "      <td>4.8</td>\n",
              "      <td>0</td>\n",
              "      <td>1</td>\n",
              "      <td>3</td>\n",
              "      <td>12</td>\n",
              "      <td>0</td>\n",
              "      <td>2</td>\n",
              "      <td>0</td>\n",
              "      <td>0</td>\n",
              "      <td>0</td>\n",
              "    </tr>\n",
              "  </tbody>\n",
              "</table>\n",
              "<p>431 rows × 12 columns</p>\n",
              "</div>"
            ],
            "text/plain": [
              "     Edad  Diabetes   PSA  Biopsias_previas  Vol_prostatico  \\\n",
              "0      53         0   4.0                 0               1   \n",
              "1      56         0   7.7                 0               1   \n",
              "2      57         0  29.0                 1               1   \n",
              "3      56         0   7.0                 0               1   \n",
              "4      55         0  29.0                 1               1   \n",
              "..    ...       ...   ...               ...             ...   \n",
              "426    55         0   5.0                 0               0   \n",
              "427    70         1  18.0                 0               1   \n",
              "428    75         0  75.0                 0               1   \n",
              "429    67         0   6.0                 0               1   \n",
              "430    64         0   4.8                 0               1   \n",
              "\n",
              "     Antibiotico_profilaxis  Num_muestras  Enf_cronica_pulm_obstructiva  \\\n",
              "0                         0            12                             0   \n",
              "1                         0            12                             0   \n",
              "2                         0            24                             0   \n",
              "3                         0            12                             0   \n",
              "4                         0            24                             0   \n",
              "..                      ...           ...                           ...   \n",
              "426                       0            12                             0   \n",
              "427                       0            12                             0   \n",
              "428                       0            12                             0   \n",
              "429                       0            12                             0   \n",
              "430                       3            12                             0   \n",
              "\n",
              "     Biopsia  Fiebre  ITU  Hospitalizacion  \n",
              "0          0       1    0                1  \n",
              "1          0       1    0                1  \n",
              "2          0       1    0                1  \n",
              "3          0       1    0                1  \n",
              "4          0       1    0                1  \n",
              "..       ...     ...  ...              ...  \n",
              "426        2       0    0                0  \n",
              "427        0       0    0                0  \n",
              "428        5       0    0                0  \n",
              "429        1       0    0                0  \n",
              "430        2       0    0                0  \n",
              "\n",
              "[431 rows x 12 columns]"
            ]
          },
          "execution_count": 2,
          "metadata": {},
          "output_type": "execute_result"
        }
      ],
      "source": [
        "df = pd.read_csv(\"BBDD_hospitalizacion_codificado.csv\")\n",
        "df"
      ]
    },
    {
      "cell_type": "code",
      "execution_count": 3,
      "metadata": {},
      "outputs": [
        {
          "data": {
            "image/png": "[encoded data removed]",
            "text/plain": [
              "<Figure size 500x500 with 1 Axes>"
            ]
          },
          "metadata": {},
          "output_type": "display_data"
        },
        {
          "name": "stdout",
          "output_type": "stream",
          "text": [
            "Hospitalizacion\n",
            "0    408\n",
            "1     23\n",
            "Name: count, dtype: int64\n"
          ]
        }
      ],
      "source": [
        "plt.figure(figsize=(5,5))\n",
        "sns.countplot(x=\"Hospitalizacion\", data=df, palette=\"viridis\")\n",
        "plt.xlabel('Hospitalizacion')\n",
        "plt.ylabel('Count')\n",
        "plt.title('Countplot de Hospitalizacion')\n",
        "plt.show()\n",
        "\n",
        "print(df[\"Hospitalizacion\"].value_counts())"
      ]
    },
    {
      "cell_type": "markdown",
      "metadata": {},
      "source": [
        "La variable objetivo muestra un considerable desequilibrio entre las clases, con tan solo 23 registros pertenecientes a la clase positiva para la hospitalización.<br>\n",
        "La idea es abordar el desequilibrio de clases durante el entrenamiento del modelo sin tocar el conjunto de prueba. La razón detrás de esto es asegurarse de que la evaluación del rendimiento del modelo en el conjunto de prueba sea una representación más realista de cómo se comportaría en datos no vistos.<br>\n",
        "El proceso sería:\n",
        "* Aplicar SMOTE solo al conjunto de entrenamiento, generando instancias sintéticas para equilibrar las clases.\n",
        "* Entrenar el modelo con el conjunto de entrenamiento aumentado por SMOTE.\n",
        "* Evaluar el rendimiento del modelo en el conjunto de prueba, que no ha sido modificado por SMOTE."
      ]
    },
    {
      "cell_type": "markdown",
      "metadata": {
        "id": "X33Od3Y_Lrye"
      },
      "source": [
        "Separamos el dataset en X, y (variable objetivo)"
      ]
    },
    {
      "cell_type": "code",
      "execution_count": 4,
      "metadata": {
        "id": "Zjq3g_zkMUT5"
      },
      "outputs": [],
      "source": [
        "X= df.drop(\"Hospitalizacion\", axis=1)\n",
        "y= df[\"Hospitalizacion\"]"
      ]
    },
    {
      "cell_type": "markdown",
      "metadata": {
        "id": "mTV2RdmbMoRE"
      },
      "source": [
        "Separamos el dataset en el conjunto de entrenamiento y el conjunto test: X_train, X_test, y_train y y_test"
      ]
    },
    {
      "cell_type": "code",
      "execution_count": 5,
      "metadata": {
        "id": "ILzt6oOaM1ag"
      },
      "outputs": [
        {
          "name": "stdout",
          "output_type": "stream",
          "text": [
            "Cantidad de instancias en el conjunto de entrenamiento son: 301\n",
            "Cantidad de instancias en el conjunto de prueba: 130\n",
            "Cantidad de etiquetas en el conjunto de entrenamiento que son NO: 285\n",
            "Cantidad de etiquetas en el conjunto de entrenamiento que son SI: 16\n",
            "Cantidad de etiquetas en el conjunto de entrenamiento que son NO: 123\n",
            "Cantidad de etiquetas en el conjunto de entrenamiento que son SI: 7\n"
          ]
        }
      ],
      "source": [
        "X_train, X_test, y_train, y_test = train_test_split(X,y, test_size=0.30, random_state=50, stratify=y)\n",
        "print(\"Cantidad de instancias en el conjunto de entrenamiento son:\", len(X_train))\n",
        "print(\"Cantidad de instancias en el conjunto de prueba:\", len(X_test))\n",
        "y_train_no = y_train.value_counts()[0]\n",
        "y_train_si = y_train.value_counts()[1]\n",
        "y_test_no = y_test.value_counts()[0]\n",
        "y_test_si = y_test.value_counts()[1]\n",
        "print(\"Cantidad de etiquetas en el conjunto de entrenamiento que son NO:\", y_train_no)\n",
        "print(\"Cantidad de etiquetas en el conjunto de entrenamiento que son SI:\", y_train_si)\n",
        "print(\"Cantidad de etiquetas en el conjunto de entrenamiento que son NO:\", y_test_no)\n",
        "print(\"Cantidad de etiquetas en el conjunto de entrenamiento que son SI:\", y_test_si)"
      ]
    },
    {
      "cell_type": "markdown",
      "metadata": {},
      "source": [
        "Realizamos un sobremuestreo para poder compensar el desbalanceo de clases que posee el conjunto de datos"
      ]
    },
    {
      "cell_type": "code",
      "execution_count": 6,
      "metadata": {},
      "outputs": [
        {
          "name": "stdout",
          "output_type": "stream",
          "text": [
            "Cantidad de instancias en el conjunto de prueba: 570\n",
            "Cantidad de etiquetas en el conjunto de entrenamiento que son NO: 285\n",
            "Cantidad de etiquetas en el conjunto de entrenamiento que son SI: 285\n"
          ]
        }
      ],
      "source": [
        "smote = SMOTE(random_state=50)\n",
        "X_train_smote, y_train_smote = smote.fit_resample(X_train, y_train)\n",
        "print(\"Cantidad de instancias en el conjunto de prueba:\", len(X_train_smote))\n",
        "y_train_smote_no = y_train_smote.value_counts()[0]\n",
        "y_train_smote_si = y_train_smote.value_counts()[1]\n",
        "print(\"Cantidad de etiquetas en el conjunto de entrenamiento que son NO:\", y_train_smote_no)\n",
        "print(\"Cantidad de etiquetas en el conjunto de entrenamiento que son SI:\", y_train_smote_si)"
      ]
    },
    {
      "cell_type": "markdown",
      "metadata": {
        "id": "zyQIaY1bM12g"
      },
      "source": [
        "Instancien, entrenen y predigan sobre un árbol de decisión asignando una profundidad máxima arbitraria"
      ]
    },
    {
      "cell_type": "code",
      "execution_count": 7,
      "metadata": {
        "id": "HO3Db1YQM9JS"
      },
      "outputs": [
        {
          "name": "stdout",
          "output_type": "stream",
          "text": [
            "              precision    recall  f1-score   support\n",
            "\n",
            "           0       1.00      0.93      0.97       123\n",
            "           1       0.47      1.00      0.64         7\n",
            "\n",
            "    accuracy                           0.94       130\n",
            "   macro avg       0.73      0.97      0.80       130\n",
            "weighted avg       0.97      0.94      0.95       130\n",
            "\n"
          ]
        }
      ],
      "source": [
        "prof_max_arbitraria = 8\n",
        "model_tree = DecisionTreeClassifier(max_depth=prof_max_arbitraria)\n",
        "model_tree.fit(X_train_smote,y_train_smote)\n",
        "y_pred = model_tree.predict(X_test)\n",
        "\n",
        "print(classification_report(y_test, y_pred))"
      ]
    },
    {
      "cell_type": "markdown",
      "metadata": {
        "id": "HAZhxOMyNFON"
      },
      "source": [
        "Para evaluar el rendimiento del modelo de clasificacion realizaremos una matriz de confusion y un mapa de calor para visualizar este rendimiento"
      ]
    },
    {
      "cell_type": "code",
      "execution_count": 8,
      "metadata": {
        "id": "_GpXEa1oNQfG"
      },
      "outputs": [
        {
          "name": "stdout",
          "output_type": "stream",
          "text": [
            "[[115   0]\n",
            " [  8   7]]\n"
          ]
        },
        {
          "data": {
            "image/png": "[encoded data removed]",
            "text/plain": [
              "<Figure size 500x500 with 1 Axes>"
            ]
          },
          "metadata": {},
          "output_type": "display_data"
        }
      ],
      "source": [
        "matriz_confusion = confusion_matrix(y_pred, y_test)\n",
        "print(matriz_confusion)\n",
        "\n",
        "plt.figure(figsize=(5,5))\n",
        "sns.heatmap(matriz_confusion, annot=True,fmt=\"d\", cmap=\"viridis\", cbar=False,\n",
        "            xticklabels=['Predicción Negativa', 'Predicción Positiva'],\n",
        "            yticklabels=['Real Negativa', 'Real Positiva'])\n",
        "plt.title('Matriz de Confusión')\n",
        "plt.show()"
      ]
    },
    {
      "cell_type": "markdown",
      "metadata": {
        "id": "CmRUpq9FMcsi"
      },
      "source": [
        "Precision y Recall:\n",
        "\n",
        "La precisión para la clase mayoritaria (etiqueta 0) es perfecta (1.00), indicando que todas las predicciones positivas para esta clase son correctas.\n",
        "La precisión para la clase minoritaria (etiqueta 1) es más baja (0.41), lo que sugiere que hay falsos positivos en las predicciones para esta clase.\n",
        "El recall es alto para ambas clases, especialmente para la clase minoritaria (1.00), lo que indica que el modelo es efectivo para capturar la mayoría de las instancias positivas reales.<br>\n",
        "F1-Score:\n",
        "\n",
        "El F1-Score, que equilibra precision y recall, es alto para la clase mayoritaria (0.96) pero más bajo para la clase minoritaria (0.58).\n",
        "Esto sugiere que hay un compromiso entre la precisión y el recall en la clasificación de la clase minoritaria.<br>\n",
        "Exactitud (Accuracy):\n",
        "\n",
        "La exactitud general del modelo es del 92%, lo cual es un buen indicador general del rendimiento, pero debe interpretarse con precaución en conjuntos de datos desequilibrados."
      ]
    },
    {
      "cell_type": "markdown",
      "metadata": {
        "id": "b_u-bC8FNTkT"
      },
      "source": [
        "### Visualizacion de la importancia de cada variable respecto a la variable objetivo"
      ]
    },
    {
      "cell_type": "code",
      "execution_count": 9,
      "metadata": {
        "id": "I9w7a6dXNYPz"
      },
      "outputs": [
        {
          "data": {
            "image/png": "[encoded data removed]",
            "text/plain": [
              "<Figure size 1000x600 with 1 Axes>"
            ]
          },
          "metadata": {},
          "output_type": "display_data"
        }
      ],
      "source": [
        "imp_variables = model_tree.feature_importances_\n",
        "nombre_variables = list(X.columns)\n",
        "\n",
        "plt.figure(figsize=(10, 6))\n",
        "sns.set_palette('viridis')\n",
        "plt.barh(nombre_variables, imp_variables)\n",
        "plt.xlabel('Importancia')\n",
        "plt.title('Importancia de cada Variable en la Clasificación')\n",
        "plt.show()"
      ]
    },
    {
      "cell_type": "markdown",
      "metadata": {
        "id": "E3k9TEhuSU9i"
      },
      "source": [
        "Encuentre cuál sería un valor óptimo para el hiperparámetro **max_depth** para el árbol de decisión. Construya un modelo con este valor y compare las métricas de evaluación respecto al modelo creado con una profundidad arbitraria. "
      ]
    },
    {
      "cell_type": "code",
      "execution_count": 10,
      "metadata": {
        "id": "CUdKvPY0S1SC"
      },
      "outputs": [
        {
          "name": "stdout",
          "output_type": "stream",
          "text": [
            "              precision    recall  f1-score   support\n",
            "\n",
            "           0       1.00      0.89      0.94       123\n",
            "           1       0.35      1.00      0.52         7\n",
            "\n",
            "    accuracy                           0.90       130\n",
            "   macro avg       0.68      0.95      0.73       130\n",
            "weighted avg       0.96      0.90      0.92       130\n",
            "\n",
            "Mejor valor para max_depth: 9\n"
          ]
        }
      ],
      "source": [
        "modelo_arbol = DecisionTreeClassifier()\n",
        "parametros_grid = {'max_depth': [3,4,5,6,7,8,9,10]}\n",
        "grid_search = GridSearchCV(modelo_arbol, parametros_grid, cv=5, scoring=\"precision\")\n",
        "grid_search.fit(X_train_smote, y_train_smote)\n",
        "mejor_max_depth = grid_search.best_params_['max_depth']\n",
        "modelo_mejorado = DecisionTreeClassifier(max_depth=mejor_max_depth)\n",
        "modelo_mejorado.fit(X_train_smote, y_train_smote)\n",
        "y_pred_mejorado = modelo_mejorado.predict(X_test)\n",
        "print(classification_report(y_test, y_pred_mejorado))\n",
        "print(f\"Mejor valor para max_depth: {mejor_max_depth}\")"
      ]
    },
    {
      "cell_type": "markdown",
      "metadata": {},
      "source": [
        "* Modelo Sin Mejorar:\n",
        "\n",
        "Tiene una alta precisión para los casos en los que el paciente no fue hospitalizado (clase 0), lo que significa que cuando predice que un paciente no será hospitalizado, es probable que sea correcto.\n",
        "Logra una alta sensibilidad (recall) para los casos en los que el paciente fue hospitalizado (clase 1), lo que indica que identifica correctamente a la mayoría de los pacientes hospitalizados.<br>\n",
        "\n",
        "* Modelo Mejorado:\n",
        "\n",
        "Aunque la precisión para los casos en los que el paciente no fue hospitalizado (clase 0) sigue siendo alta, la precisión para los casos en los que el paciente fue hospitalizado (clase 1) disminuye. Sin embargo, esto se compensa con un aumento en el recall para la clase 1.\n",
        "Tener un recall del 100% para la clase 1 significa que el modelo mejorado identifica correctamente a todos los pacientes que fueron hospitalizados."
      ]
    },
    {
      "cell_type": "markdown",
      "metadata": {
        "id": "EiqnqbBuNmmW"
      },
      "source": [
        "Instancien, entrenen y predigan sobre un modelo de k-vecinos asignando una cantidad de vecinos k-aribitraria. "
      ]
    },
    {
      "cell_type": "code",
      "execution_count": null,
      "metadata": {
        "id": "m_n9Yfg0NmTP"
      },
      "outputs": [],
      "source": []
    },
    {
      "cell_type": "markdown",
      "metadata": {
        "id": "kiZg1tfCS38i"
      },
      "source": [
        "Encuentre el valor óptimo para k"
      ]
    },
    {
      "cell_type": "code",
      "execution_count": null,
      "metadata": {
        "id": "DVaNp3K9S7Os"
      },
      "outputs": [],
      "source": []
    },
    {
      "cell_type": "markdown",
      "metadata": {
        "id": "_xXX6APsNjkV"
      },
      "source": [
        "Halle las mismas tres métricas de evaluación para este modelo de clasificación y compare los valores para el performance, respecto al árbol de decisión cuyo hiperparámetro **max_depth** se optimizó. ¿Qué puede concluir? "
      ]
    },
    {
      "cell_type": "code",
      "execution_count": null,
      "metadata": {
        "id": "paHDdRnYN_Gl"
      },
      "outputs": [],
      "source": []
    },
    {
      "cell_type": "markdown",
      "metadata": {
        "id": "JeGx2V0lTF9i"
      },
      "source": [
        "De acuerdo con lo aprendido en el módulo, ¿Cómo cree que se puede mejorar el performance de este modelo? "
      ]
    },
    {
      "cell_type": "markdown",
      "metadata": {
        "id": "lPfoiS6ZTN-4"
      },
      "source": [
        "R/"
      ]
    }
  ],
  "metadata": {
    "colab": {
      "provenance": []
    },
    "kernelspec": {
      "display_name": "Python 3",
      "language": "python",
      "name": "python3"
    },
    "language_info": {
      "codemirror_mode": {
        "name": "ipython",
        "version": 3
      },
      "file_extension": ".py",
      "mimetype": "text/x-python",
      "name": "python",
      "nbconvert_exporter": "python",
      "pygments_lexer": "ipython3",
      "version": "3.11.6"
    },
    "orig_nbformat": 4,
    "vscode": {
      "interpreter": {
        "hash": "ae0e7af47f894f9476ada5eb18ddb08363018cc3b7dc70bce08ae16d38df8604"
      }
    }
  },
  "nbformat": 4,
  "nbformat_minor": 0
}
